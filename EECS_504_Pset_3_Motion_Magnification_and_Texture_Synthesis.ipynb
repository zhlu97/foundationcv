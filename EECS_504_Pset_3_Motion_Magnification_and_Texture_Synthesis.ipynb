{
  "nbformat": 4,
  "nbformat_minor": 0,
  "metadata": {
    "colab": {
      "name": "EECS 504 Pset 3: Motion Magnification and Texture Synthesis.ipynb",
      "provenance": [],
      "collapsed_sections": [],
      "include_colab_link": true
    },
    "kernelspec": {
      "name": "python3",
      "display_name": "Python 3"
    }
  },
  "cells": [
    {
      "cell_type": "markdown",
      "metadata": {
        "id": "view-in-github",
        "colab_type": "text"
      },
      "source": [
        "<a href=\"https://colab.research.google.com/github/zhlu97/foundationcv/blob/master/EECS_504_Pset_3_Motion_Magnification_and_Texture_Synthesis.ipynb\" target=\"_parent\"><img src=\"https://colab.research.google.com/assets/colab-badge.svg\" alt=\"Open In Colab\"/></a>"
      ]
    },
    {
      "cell_type": "markdown",
      "metadata": {
        "id": "Uqh1kK1LeS2U",
        "colab_type": "text"
      },
      "source": [
        "#EECS 504 PS3: Motion Magnification and Texture Synthesis\n",
        "\n",
        "Please provide the following information \n",
        "(e.g. Andrew Owens, ahowens):\n",
        "\n",
        "[Zhaohan] [Lu], [zhaohan]\n",
        "\n",
        "\n"
      ]
    },
    {
      "cell_type": "markdown",
      "metadata": {
        "id": "Wug5j9jHeeAx",
        "colab_type": "text"
      },
      "source": [
        "# Starting\n",
        "\n",
        "Run the following code to import the modules you'll need. After your finish the assignment, remember to run all cells and save the notebook to your local machine as a .ipynb file for Canvas submission."
      ]
    },
    {
      "cell_type": "code",
      "metadata": {
        "id": "loxyYKR1ZBsG",
        "colab_type": "code",
        "colab": {}
      },
      "source": [
        "%matplotlib inline\n",
        "import numpy as np\n",
        "from numpy.fft import fft2, ifft2, fftshift, ifftshift\n",
        "from numpy import angle, real\n",
        "from numpy import exp, abs, pi, sqrt\n",
        "import matplotlib.pyplot as plt\n",
        "import cv2\n",
        "import math\n",
        "\n",
        "import random\n",
        "import sys\n",
        "from scipy import ndimage\n",
        "\n",
        "# cv2.imshow does not work in Colab, we use cv2_imshow instead\n",
        "from google.colab.patches import cv2_imshow"
      ],
      "execution_count": null,
      "outputs": []
    },
    {
      "cell_type": "code",
      "metadata": {
        "id": "-O7p5RhASRaB",
        "colab_type": "code",
        "colab": {}
      },
      "source": [
        "%%capture\n",
        "# download some images\n",
        "# should take a second to run\n",
        "\n",
        "# for motion magnification problem\n",
        "! wget -O bill.avi \"https://drive.google.com/uc?export=download&id=1QR2dCShn-fYYEvcAQ8J4mnIo_ISqrjc7\"\n",
        "\n",
        "# for texture synthesis problem\n",
        "! wget -O texture.jpg \"https://drive.google.com/uc?export=download&id=11IlTZNLwfYsXQt2L1GbKdNqcj6JNkQik\"\n",
        "! wget -O rings.jpg \"https://drive.google.com/uc?export=download&id=1fYtmQe_a40BWg1OU178SFbcU4KRZuphn\"\n",
        "! wget -O jigsaw.jpg \"https://drive.google.com/uc?export=download&id=1SlYUw6vT9_PNP8XNhQfAu36AtPJ-PMpk\""
      ],
      "execution_count": null,
      "outputs": []
    },
    {
      "cell_type": "markdown",
      "metadata": {
        "id": "RpV5DTNmaBDk",
        "colab_type": "text"
      },
      "source": [
        "## **Problem 3.1 (a)**"
      ]
    },
    {
      "cell_type": "code",
      "metadata": {
        "id": "ijhkAqcdZM3v",
        "colab_type": "code",
        "colab": {}
      },
      "source": [
        "def imshow(im, cmap='gray'):\n",
        "    # clip image from 0-1\n",
        "    im = np.clip(im, 0, 1)\n",
        "    plt.imshow(im, cmap=cmap)"
      ],
      "execution_count": null,
      "outputs": []
    },
    {
      "cell_type": "code",
      "metadata": {
        "id": "Mo2f0-Y6ZQyf",
        "colab_type": "code",
        "colab": {}
      },
      "source": [
        "# 9x9 images\n",
        "im_size = 9\n",
        "\n",
        "# we would like to magnify the change between im1 and im2 by 4x\n",
        "magnification_factor = 4;\n",
        "\n",
        "# horizontal movement from (0, 0) to (0, 1)\n",
        "im1 = np.zeros([im_size, im_size])\n",
        "im2 = np.zeros([im_size, im_size])\n",
        "im1[0,0] = 1\n",
        "im2[0,1] = 1\n",
        "\n",
        "ff1 = fftshift(fft2(im1))\n",
        "ff2 = fftshift(fft2(im2))\n"
      ],
      "execution_count": null,
      "outputs": []
    },
    {
      "cell_type": "markdown",
      "metadata": {
        "id": "USjr94uIXJ1Y",
        "colab_type": "text"
      },
      "source": [
        "### This is a quick tutorial for those who are not familiar with complex numbers in python."
      ]
    },
    {
      "cell_type": "code",
      "metadata": {
        "id": "KOZCXoSWZV2D",
        "colab_type": "code",
        "colab": {
          "base_uri": "https://localhost:8080/",
          "height": 98
        },
        "outputId": "8805fd8f-3e25-444c-ee6d-2ff485edd9e4"
      },
      "source": [
        "# create a complex number\n",
        "x = 1 + 1j\n",
        "print(\"x =\", x)\n",
        "print(\"x.real\", x.real, \"x.imag\", x.imag)\n",
        "\n",
        "# magnitude and phase of complex number\n",
        "mag = abs(x)\n",
        "phase = angle(x)\n",
        "\n",
        "print(\"Magnitude\", mag)\n",
        "print(\"Phase\", phase)\n",
        "\n",
        "# Euler's formula\n",
        "y = mag * exp(phase * 1j)\n",
        "print(\"y =\", y)"
      ],
      "execution_count": null,
      "outputs": [
        {
          "output_type": "stream",
          "text": [
            "x = (1+1j)\n",
            "x.real 1.0 x.imag 1.0\n",
            "Magnitude 1.4142135623730951\n",
            "Phase 0.7853981633974483\n",
            "y = (1.0000000000000002+1j)\n"
          ],
          "name": "stdout"
        }
      ]
    },
    {
      "cell_type": "code",
      "metadata": {
        "id": "uWusq5kFZSEw",
        "colab_type": "code",
        "colab": {}
      },
      "source": [
        "def magnify_change(im1, im2, magnification_factor):\n",
        "    \n",
        "    # find phase shift in frequency domain\n",
        "    im1_dft = fft2(im1)\n",
        "    im2_dft = fft2(im2)\n",
        "    phase_shift = angle(im2_dft) - angle(im1_dft)#TODO1\n",
        "    \n",
        "    # magnify the phase change in frequency domain \n",
        "    magnified_dft = abs(im1_dft) * exp((magnification_factor * phase_shift + angle(im1_dft)) * 1j)#TODO2\n",
        "    \n",
        "    # what does the magnified phase change cause in image space?\n",
        "    magnified = ifft2(magnified_dft).real\n",
        "    \n",
        "    return magnified"
      ],
      "execution_count": null,
      "outputs": []
    },
    {
      "cell_type": "code",
      "metadata": {
        "id": "YulC7V6nZW2u",
        "colab_type": "code",
        "colab": {
          "base_uri": "https://localhost:8080/",
          "height": 261
        },
        "outputId": "26c43acf-2d7f-4605-9db6-619a3bb4f6a5"
      },
      "source": [
        "# magnify position change\n",
        "magnified = magnify_change(im1, im2, magnification_factor);\n",
        "\n",
        "plt.figure(figsize=(12,36))\n",
        "plt.subplot(131)\n",
        "imshow(im1); plt.title('im1');\n",
        "\n",
        "plt.subplot(132)\n",
        "imshow(im2); plt.title('im2');\n",
        "\n",
        "plt.subplot(133)\n",
        "imshow(magnified); plt.title('magnified');"
      ],
      "execution_count": null,
      "outputs": [
        {
          "output_type": "display_data",
          "data": {
            "image/png": "[encoded data removed]",
            "text/plain": [
              "<Figure size 864x2592 with 3 Axes>"
            ]
          },
          "metadata": {
            "tags": []
          }
        }
      ]
    },
    {
      "cell_type": "markdown",
      "metadata": {
        "id": "nQAF4he7Za_8",
        "colab_type": "text"
      },
      "source": [
        "## **Problem 3.1 (b)**\n"
      ]
    },
    {
      "cell_type": "code",
      "metadata": {
        "id": "1LPwI_TsZfDR",
        "colab_type": "code",
        "colab": {
          "base_uri": "https://localhost:8080/",
          "height": 261
        },
        "outputId": "1623b2e4-02ad-44f2-8b99-7015df4d872c"
      },
      "source": [
        "# 9x9 images\n",
        "im_size = 9\n",
        "\n",
        "# we would like to magnify the change between im1 and im2 by 4x\n",
        "magnification_factor = 4\n",
        "\n",
        "# horizontal movement from (0, 0) to (0, 1)\n",
        "# additional vertical movement from (8, 8) to (7, 8)\n",
        "im1 = np.zeros([im_size, im_size])\n",
        "im2 = np.zeros([im_size, im_size])\n",
        "im1[0,0] = 1\n",
        "im2[0,1] = 1\n",
        "im1[8,8] = 1\n",
        "im2[7,8] = 1\n",
        "\n",
        "# magnify position change\n",
        "magnified = magnify_change(im1, im2, magnification_factor)\n",
        "\n",
        "\n",
        "plt.figure(figsize=(12,36))\n",
        "plt.subplot(131)\n",
        "imshow(im1); plt.title('im1');\n",
        "\n",
        "plt.subplot(132)\n",
        "imshow(im2); plt.title('im2');\n",
        "\n",
        "plt.subplot(133)\n",
        "imshow(magnified); plt.title('magnified');\n"
      ],
      "execution_count": null,
      "outputs": [
        {
          "output_type": "display_data",
          "data": {
            "image/png": "[encoded data removed]",
            "text/plain": [
              "<Figure size 864x2592 with 3 Axes>"
            ]
          },
          "metadata": {
            "tags": []
          }
        }
      ]
    },
    {
      "cell_type": "markdown",
      "metadata": {
        "id": "GliDTsJ3SI5z",
        "colab_type": "text"
      },
      "source": [
        "The two offsets were not properly magnified because we are using DFT to compute the phase shift, but the phase of the new images are not seperated into 2 blocks (the phase of the new signal is not simply combined the signals of 2 blocks). Therefore, the magnified result is not the superposition of the 1-d difference images."
      ]
    },
    {
      "cell_type": "markdown",
      "metadata": {
        "colab_type": "text",
        "id": "XyIt4H8MZnno"
      },
      "source": [
        "## **Problem 3.1 (c)**\n"
      ]
    },
    {
      "cell_type": "code",
      "metadata": {
        "id": "NomQMElTZYiq",
        "colab_type": "code",
        "colab": {
          "base_uri": "https://localhost:8080/",
          "height": 261
        },
        "outputId": "5ccb8c6d-66e9-43a4-85ba-bbf1b594d63a"
      },
      "source": [
        "# 9x9 images\n",
        "im_size = 9\n",
        "\n",
        "# we would like to magnify the change between im1 and im2 by 4x\n",
        "magnification_factor = 4\n",
        "\n",
        "# width of our Gaussian window\n",
        "sigma = 2\n",
        "\n",
        "# horizontal movement from (0, 0) to (0, 1)\n",
        "# additional vertical movement from (8, 8) to (7, 8)\n",
        "im1 = np.zeros([im_size, im_size])\n",
        "im2 = np.zeros([im_size, im_size])\n",
        "im1[0,0] = 1\n",
        "im2[0,1] = 1\n",
        "im1[8,8] = 1\n",
        "im2[7,8] = 1\n",
        "\n",
        "# we will magnify windows of the image and aggregate the results\n",
        "magnified = np.zeros([im_size, im_size])\n",
        "\n",
        "# meshgrid for computing Gaussian window\n",
        "X, Y = np.meshgrid(np.arange(im_size), np.arange(im_size))\n",
        "\n",
        "for y in range(0, im_size, 2*sigma):\n",
        "    for x in range(0, im_size, 2*sigma):\n",
        "        gaussian_mask = 1/(2 * np.pi * sigma**2) * exp(-((X - x)**2 + (Y - y)**2)/(2 * sigma**2))#TODO3\n",
        "        window_magnified = magnify_change(im1 * gaussian_mask, im2 * gaussian_mask,\n",
        "                                          magnification_factor)\n",
        "        \n",
        "        magnified = magnified + window_magnified\n",
        "\n",
        "plt.figure(figsize=(12,36))\n",
        "plt.subplot(131)\n",
        "imshow(im1); plt.title('im1');\n",
        "\n",
        "plt.subplot(132)\n",
        "imshow(im2); plt.title('im2');\n",
        "\n",
        "plt.subplot(133)\n",
        "imshow(magnified); plt.title('magnified');"
      ],
      "execution_count": null,
      "outputs": [
        {
          "output_type": "display_data",
          "data": {
            "image/png": "[encoded data removed]",
            "text/plain": [
              "<Figure size 864x2592 with 3 Axes>"
            ]
          },
          "metadata": {
            "tags": []
          }
        }
      ]
    },
    {
      "cell_type": "markdown",
      "metadata": {
        "id": "9Kzn223xZsN3",
        "colab_type": "text"
      },
      "source": [
        "## **Problem 3.1 (d) - Motion Magnification**\n"
      ]
    },
    {
      "cell_type": "code",
      "metadata": {
        "id": "0l47cx31ZvpO",
        "colab_type": "code",
        "colab": {
          "base_uri": "https://localhost:8080/",
          "height": 33
        },
        "outputId": "abc414ae-c646-4dfa-e4e2-0b165fd94e01"
      },
      "source": [
        "import numpy as np\n",
        "import cv2\n",
        "\n",
        "cap = cv2.VideoCapture('bill.avi')\n",
        "\n",
        "# list of video frames\n",
        "frames = []\n",
        "\n",
        "while(cap.isOpened()):\n",
        "    # read frame from the video\n",
        "    ret, frame = cap.read()\n",
        "    \n",
        "    if ret is False:\n",
        "        break\n",
        "\n",
        "    frame = cv2.resize(frame, (200, 200), interpolation=cv2.INTER_CUBIC)\n",
        "    frames.append(frame)\n",
        "\n",
        "cap.release()\n",
        "\n",
        "# scale frame to 0-1\n",
        "frames = np.array(frames) / 255.\n",
        "print(\"frames size:\", frames.shape, \"# (nb_frames, height, width, channel)\")\n",
        "\n",
        "# get height, width\n",
        "num_frames = frames.shape[0]\n",
        "height = frames.shape[1]\n",
        "width = frames.shape[2]"
      ],
      "execution_count": null,
      "outputs": [
        {
          "output_type": "stream",
          "text": [
            "frames size: (60, 200, 200, 3) # (nb_frames, height, width, channel)\n"
          ],
          "name": "stdout"
        }
      ]
    },
    {
      "cell_type": "code",
      "metadata": {
        "id": "RbB0d5fDZ1DQ",
        "colab_type": "code",
        "colab": {
          "base_uri": "https://localhost:8080/",
          "height": 277
        },
        "outputId": "dab244ab-aef4-4732-d274-7af2f0ec7c2a"
      },
      "source": [
        "# 10x magnification of motion\n",
        "magnification_factor = 10\n",
        "\n",
        "# width of Gaussian window\n",
        "sigma = 26\n",
        "\n",
        "# alpha for moving average\n",
        "alpha = 0.5\n",
        "\n",
        "# we will magnify windows of the video and aggregate the results\n",
        "magnified = np.zeros_like(frames)\n",
        "\n",
        "# meshgrid for computing Gaussian window\n",
        "X, Y = np.meshgrid(np.arange(width), np.arange(height))\n",
        "\n",
        "# iterate over windows of the frames\n",
        "x_range = list(range(0, width, 2*sigma))\n",
        "y_range = list(range(0, height, 2*sigma))\n",
        "num_windows = len(x_range) * len(y_range)\n",
        "window_index = 1\n",
        "\n",
        "for y in y_range:\n",
        "    for x in x_range:\n",
        "        for channel_index in range(3): # RGB channels\n",
        "            for frame_index in range(num_frames):\n",
        "                \n",
        "                # create windowed frames\n",
        "                gaussian_mask = 1/(2 * np.pi * sigma**2) * exp(-(x**2 + y**2)/(2 * sigma**2))#TODO5\n",
        "                windowed_frames = gaussian_mask * frames[frame_index,:,:,channel_index]\n",
        "            \n",
        "                # initialize moving average of phase for current window/channel\n",
        "                if frame_index == 0:\n",
        "                    window_average_phase = angle(fft2(windowed_frames))\n",
        "                \n",
        "                window_dft = fft2(windowed_frames)\n",
        "                \n",
        "                # compute phase shift and constrain to [-pi, pi] since\n",
        "                # angle space wraps around\n",
        "                window_phase_shift = angle(window_dft) - window_average_phase\n",
        "                window_phase_shift[window_phase_shift > pi] = window_phase_shift[window_phase_shift > pi] - 2 * pi\n",
        "                window_phase_shift[window_phase_shift < -pi] = window_phase_shift[window_phase_shift < -pi] + 2 * pi\n",
        "                \n",
        "                # magnify phase shift\n",
        "                window_magnified_phase = magnification_factor * window_phase_shift + angle(window_dft)#TODO6\n",
        "                 \n",
        "                # go back to image space\n",
        "                window_magnified_dft = abs(window_dft) * exp(window_magnified_phase * 1j)#TODO7\n",
        "                window_magnified = abs(ifft2(window_magnified_dft))\n",
        "                \n",
        "                # update moving average\n",
        "                window_phase_unwrapped = window_average_phase + window_phase_shift\n",
        "                window_average_phase = alpha * window_average_phase + (1 - alpha) * window_phase_unwrapped\n",
        "                \n",
        "                # aggregate\n",
        "                magnified[frame_index,:,:,channel_index] = magnified[frame_index,:,:,channel_index] + window_magnified\n",
        "        \n",
        "        # print progress\n",
        "        print('{}/{}'.format(window_index, num_windows))\n",
        "        window_index += 1"
      ],
      "execution_count": null,
      "outputs": [
        {
          "output_type": "stream",
          "text": [
            "1/16\n",
            "2/16\n",
            "3/16\n",
            "4/16\n",
            "5/16\n",
            "6/16\n",
            "7/16\n",
            "8/16\n",
            "9/16\n",
            "10/16\n",
            "11/16\n",
            "12/16\n",
            "13/16\n",
            "14/16\n",
            "15/16\n",
            "16/16\n"
          ],
          "name": "stdout"
        }
      ]
    },
    {
      "cell_type": "code",
      "metadata": {
        "id": "T0LAo9tGZ3IL",
        "colab_type": "code",
        "colab": {}
      },
      "source": [
        "outputs = magnified / np.max(magnified)\n",
        "for channel_index in range(3):\n",
        "    original_frame = frames[0,:,:,channel_index]\n",
        "    magnified_frame = outputs[0,:,:,channel_index]\n",
        "    scale = np.std(original_frame[:]) / np.std(magnified_frame[:])\n",
        "    original_mean = np.mean(original_frame[:])\n",
        "    magnified_mean = np.mean(magnified_frame[:])\n",
        "    outputs[:,:,:,channel_index] = magnified_mean + scale * (outputs[:,:,:,channel_index] - magnified_mean)\n",
        "\n",
        "outputs = np.clip(outputs, 0, 1)"
      ],
      "execution_count": null,
      "outputs": []
    },
    {
      "cell_type": "code",
      "metadata": {
        "id": "eGwdxkFrZ4K9",
        "colab_type": "code",
        "colab": {}
      },
      "source": [
        "# create output video\n",
        "fourcc = cv2.VideoWriter_fourcc('M','J','P','G')\n",
        "# fourcc = cv2.VideoWriter_fourcc(*'XVID')\n",
        "out = cv2.VideoWriter('bill_magnified.avi',fourcc, 30.0, (height, width))\n",
        "\n",
        "for i in range(frames.shape[0]):\n",
        "    # scale the frame back to 0-255\n",
        "    frame = (np.clip(outputs[i], 0, 1) * 255).astype(np.uint8)\n",
        "    \n",
        "    # write frame to output video\n",
        "    out.write(frame)\n",
        "\n",
        "out.release()"
      ],
      "execution_count": null,
      "outputs": []
    },
    {
      "cell_type": "code",
      "metadata": {
        "id": "8QgaekEWZ6lE",
        "colab_type": "code",
        "colab": {}
      },
      "source": [
        "# Only for colab downloading videos\n",
        "try:\n",
        "    from google.colab import files\n",
        "    files.download('bill_magnified.avi')\n",
        "except:\n",
        "    print(\"Only for google colab\")"
      ],
      "execution_count": null,
      "outputs": []
    },
    {
      "cell_type": "markdown",
      "metadata": {
        "id": "NPrGFZZ-aGcx",
        "colab_type": "text"
      },
      "source": [
        "## **Problem 3.2 - Texture Synthesis**\n",
        "\n",
        "Note that the functions provided below are templates. Feel free to add your own helper functions as needed.\n",
        "\n",
        "You can reference the pseudocode provided here:  https://people.eecs.berkeley.edu/~efros/research/NPS/alg.html."
      ]
    },
    {
      "cell_type": "markdown",
      "metadata": {
        "id": "DxMJ7MolbtZa",
        "colab_type": "text"
      },
      "source": [
        "### Find matches function"
      ]
    },
    {
      "cell_type": "code",
      "metadata": {
        "id": "aay0xFu3b0rS",
        "colab_type": "code",
        "colab": {}
      },
      "source": [
        "def find_matches(template, sample, gauss_mask, valid_mask, window):\n",
        "    half = int((window -1)/2)\n",
        "    epsilon = 0.1\n",
        "   \n",
        "    total_weight = np.sum(np.multiply(gauss_mask, valid_mask))\n",
        "    SSD = np.zeros((sample.shape[0], sample.shape[1]))\n",
        "\n",
        "    sample_padded = np.pad(sample, ([half,half],[half,half],[0,0]), 'constant', constant_values=0)\n",
        "    for i in range(half, sample.shape[0] + half):\n",
        "      for j in range(half, sample.shape[1] + half):\n",
        "        dist = (np.sum(template[:,:,:] - sample_padded[(i-half):(i+half+1), (j-half):(j+half+1),:], axis=2))**2\n",
        "        cor = np.correlate(np.reshape(dist, window**2), np.reshape(np.multiply(gauss_mask, valid_mask),window**2))[0]\n",
        "        SSD[i - half, j - half] = cor/total_weight\n",
        "\n",
        "    min_ssd = SSD.min()\n",
        "    PixelList = []\n",
        "    for i in range(sample.shape[0]):\n",
        "      for j in range(sample.shape[1]):\n",
        "        if(SSD[i, j] <= min_ssd * (1 + epsilon)):\n",
        "          PixelList.append([i, j, SSD[i, j]])\n",
        "\n",
        "    return PixelList\n"
      ],
      "execution_count": null,
      "outputs": []
    },
    {
      "cell_type": "markdown",
      "metadata": {
        "id": "dL_bp42ob1AT",
        "colab_type": "text"
      },
      "source": [
        "### Synthesize texture function"
      ]
    },
    {
      "cell_type": "code",
      "metadata": {
        "id": "EOOIwV57b-eT",
        "colab_type": "code",
        "colab": {}
      },
      "source": [
        "def synth_texture(sample, window_size, out_size):\n",
        "    delta = 0.3\n",
        "    half_window = (int) (math.floor(window_size / 2))\n",
        "    # normalize pixel intensity\n",
        "    sample = sample.astype(np.float64)\n",
        "    sample = sample / 255.0\n",
        "    seed_size = 3\n",
        "    [sheight, swidth, channels] = sample.shape\n",
        "    synth_img = np.zeros((*out_size, channels))\n",
        "\n",
        "    # initialization: pick a random 3x3 patch from sample and place in the middle of the synthesized image\n",
        "    rh = round(seed_size + np.random.uniform(0,1) * (sheight - 2 * seed_size))\n",
        "    rw = round(seed_size + np.random.uniform(0,1) * (swidth - 2 * seed_size))\n",
        "    center = [round(.5 * x) for x in out_size] # center\n",
        "    synth_img[center[0]: center[0] + seed_size, center[1]: center[1] + seed_size ,:] = sample[rh: rh + seed_size , rw: rw + seed_size,:]\n",
        "\n",
        "    # bitmap indicating filled pixels, the seed patch is initially filled\n",
        "    filled = np.zeros(out_size)\n",
        "    filled[center[0]: center[0] + seed_size , center[1]: center[1] + seed_size] = 1\n",
        "    num_filled = int(np.sum(filled))\n",
        "    n_pixels = out_size[0]*out_size[1]\n",
        "\n",
        "    # TODO\n",
        "    # intialize 2D zero-mean gaussian w/ variance = (window_size / 6.4)\n",
        "    gx = np.linspace(-(window_size - 1) / 2., (window_size - 1) / 2., window_size)\n",
        "    xx, yy = np.meshgrid(gx, gx)\n",
        "    k  = np.exp(-0.5 * (np.square(xx) + np.square(yy)) / np.square(window_size / 6.4))\n",
        "    gauss_mask = k / np.sum(k)\n",
        "\n",
        "    # # main loop: repeat until all pixels are filled\n",
        "    next_p = n_pixels / 10\n",
        "    \n",
        "    synth_padded = np.pad(synth_img,([half_window,half_window],[half_window,half_window], [0,0]),'constant', constant_values=0)\n",
        "    filled_padded = np.pad(filled, ([half_window,half_window],[half_window,half_window]), 'constant', constant_values=0)\n",
        "\n",
        "    # main loop: repeat until all pixels are filled\n",
        "    next_p = n_pixels / 10\n",
        "    while(num_filled < n_pixels):\n",
        "        progress = 0\n",
        "        if(num_filled > next_p):\n",
        "            print(round(100 * num_filled / n_pixels), '% complete')\n",
        "            next_p += n_pixels / 10\n",
        "\n",
        "        # TODO:\n",
        "        # get list of unfilled pixels as (x, y) coordinates\n",
        "        # hint: use dilation and masking to efficiently find unfilled neighboring pixels\n",
        "        pixel_list = []\n",
        "        dilation = ndimage.binary_dilation(filled).astype(filled.dtype) - filled\n",
        "        for x in range(out_size[0]):\n",
        "          for y in range(out_size[1]):\n",
        "            if(dilation[x][y] != 0):\n",
        "              pixel_list.append([x, y])\n",
        "        for x, y in pixel_list:\n",
        "          # TODO:\n",
        "          # place window with center as (x, y) and use as template\n",
        "          template = synth_padded[x : (x + window_size), y : (y + window_size), :]\n",
        "          valid_mask = filled_padded[x : (x + window_size), y : (y + window_size)]\n",
        "          # TODO:\n",
        "          # find the best matching windows from sample image\n",
        "          # randomly sample one from best matches\n",
        "          best_matches = find_matches(template, sample, gauss_mask, valid_mask, window_size)\n",
        "          rnd_index = random.randint(0, len(best_matches) - 1)\n",
        "          # rnd_index = np.random.choice(len(best_matches))\n",
        "          best_match = best_matches[rnd_index]\n",
        "          if(best_match[2] < delta):\n",
        "            synth_img[x, y, :] = sample[best_match[0], best_match[1], :]\n",
        "            synth_padded[x + half_window,y + half_window,:] = sample[best_match[0], best_match[1], :]\n",
        "            filled_padded[x + half_window,y + half_window] = 1\n",
        "            filled[x, y] = 1\n",
        "            progress = 1\n",
        "            num_filled = num_filled + 1        \n",
        "        if(progress == 0):\n",
        "          delta = delta * 1.1\n",
        "\n",
        "    synth_img = synth_img * 255\n",
        "    return synth_img"
      ],
      "execution_count": null,
      "outputs": []
    },
    {
      "cell_type": "markdown",
      "metadata": {
        "id": "ar9WGk44b_Aw",
        "colab_type": "text"
      },
      "source": [
        "### Main function\n",
        "\n",
        "Run the texture synthesis algorithm to generate texture of new shape. "
      ]
    },
    {
      "cell_type": "code",
      "metadata": {
        "id": "cE0a6bhJcBbp",
        "colab_type": "code",
        "colab": {
          "base_uri": "https://localhost:8080/",
          "height": 738
        },
        "outputId": "8cb4f413-cd12-4220-913c-abd421357a33"
      },
      "source": [
        "# Texture synthesis on rings\n",
        "source = cv2.imread('rings.jpg')\n",
        "window_sizes = [5, 7, 13] \n",
        "out_size = [50, 50]\n",
        "\n",
        "print('Source Image')\n",
        "cv2_imshow(source)\n",
        "\n",
        "for w in window_sizes:\n",
        "  target = synth_texture(source, w, out_size)\n",
        "  print('Target Image')\n",
        "  cv2_imshow(target)\n",
        "\n"
      ],
      "execution_count": null,
      "outputs": [
        {
          "output_type": "stream",
          "text": [
            "Source Image\n"
          ],
          "name": "stdout"
        },
        {
          "output_type": "display_data",
          "data": {
            "image/png": "[encoded data removed]",
            "text/plain": [
              "<PIL.Image.Image image mode=RGB size=34x34 at 0x7FC6D7C286A0>"
            ]
          },
          "metadata": {
            "tags": []
          }
        },
        {
          "output_type": "stream",
          "text": [
            "10 % complete\n",
            "22 % complete\n",
            "30 % complete\n",
            "40 % complete\n",
            "52 % complete\n",
            "63 % complete\n",
            "72 % complete\n",
            "80 % complete\n",
            "91 % complete\n",
            "Target Image\n"
          ],
          "name": "stdout"
        },
        {
          "output_type": "display_data",
          "data": {
            "image/png": "[encoded data removed]",
            "text/plain": [
              "<PIL.Image.Image image mode=RGB size=50x50 at 0x7FC6D7C280F0>"
            ]
          },
          "metadata": {
            "tags": []
          }
        },
        {
          "output_type": "stream",
          "text": [
            "10 % complete\n",
            "22 % complete\n",
            "30 % complete\n",
            "40 % complete\n",
            "52 % complete\n"
          ],
          "name": "stdout"
        },
        {
          "output_type": "error",
          "ename": "KeyboardInterrupt",
          "evalue": "ignored",
          "traceback": [
            "\u001b[0;31m---------------------------------------------------------------------------\u001b[0m",
            "\u001b[0;31mKeyboardInterrupt\u001b[0m                         Traceback (most recent call last)",
            "\u001b[0;32m<ipython-input-6-3208050eed0a>\u001b[0m in \u001b[0;36m<module>\u001b[0;34m()\u001b[0m\n\u001b[1;32m      7\u001b[0m \u001b[0;34m\u001b[0m\u001b[0m\n\u001b[1;32m      8\u001b[0m \u001b[0;32mfor\u001b[0m \u001b[0mw\u001b[0m \u001b[0;32min\u001b[0m \u001b[0mwindow_sizes\u001b[0m\u001b[0;34m:\u001b[0m\u001b[0;34m\u001b[0m\u001b[0;34m\u001b[0m\u001b[0m\n\u001b[0;32m----> 9\u001b[0;31m   \u001b[0mtarget\u001b[0m \u001b[0;34m=\u001b[0m \u001b[0msynth_texture\u001b[0m\u001b[0;34m(\u001b[0m\u001b[0msource\u001b[0m\u001b[0;34m,\u001b[0m \u001b[0mw\u001b[0m\u001b[0;34m,\u001b[0m \u001b[0mout_size\u001b[0m\u001b[0;34m)\u001b[0m\u001b[0;34m\u001b[0m\u001b[0;34m\u001b[0m\u001b[0m\n\u001b[0m\u001b[1;32m     10\u001b[0m   \u001b[0mprint\u001b[0m\u001b[0;34m(\u001b[0m\u001b[0;34m'Target Image'\u001b[0m\u001b[0;34m)\u001b[0m\u001b[0;34m\u001b[0m\u001b[0;34m\u001b[0m\u001b[0m\n\u001b[1;32m     11\u001b[0m   \u001b[0mcv2_imshow\u001b[0m\u001b[0;34m(\u001b[0m\u001b[0mtarget\u001b[0m\u001b[0;34m)\u001b[0m\u001b[0;34m\u001b[0m\u001b[0;34m\u001b[0m\u001b[0m\n",
            "\u001b[0;32m<ipython-input-4-722429d13697>\u001b[0m in \u001b[0;36msynth_texture\u001b[0;34m(sample, window_size, out_size)\u001b[0m\n\u001b[1;32m     59\u001b[0m           \u001b[0;31m# find the best matching windows from sample image\u001b[0m\u001b[0;34m\u001b[0m\u001b[0;34m\u001b[0m\u001b[0;34m\u001b[0m\u001b[0m\n\u001b[1;32m     60\u001b[0m           \u001b[0;31m# randomly sample one from best matches\u001b[0m\u001b[0;34m\u001b[0m\u001b[0;34m\u001b[0m\u001b[0;34m\u001b[0m\u001b[0m\n\u001b[0;32m---> 61\u001b[0;31m           \u001b[0mbest_matches\u001b[0m \u001b[0;34m=\u001b[0m \u001b[0mfind_matches\u001b[0m\u001b[0;34m(\u001b[0m\u001b[0mtemplate\u001b[0m\u001b[0;34m,\u001b[0m \u001b[0msample\u001b[0m\u001b[0;34m,\u001b[0m \u001b[0mgauss_mask\u001b[0m\u001b[0;34m,\u001b[0m \u001b[0mvalid_mask\u001b[0m\u001b[0;34m,\u001b[0m \u001b[0mwindow_size\u001b[0m\u001b[0;34m)\u001b[0m\u001b[0;34m\u001b[0m\u001b[0;34m\u001b[0m\u001b[0m\n\u001b[0m\u001b[1;32m     62\u001b[0m           \u001b[0mrnd_index\u001b[0m \u001b[0;34m=\u001b[0m \u001b[0mrandom\u001b[0m\u001b[0;34m.\u001b[0m\u001b[0mrandint\u001b[0m\u001b[0;34m(\u001b[0m\u001b[0;36m0\u001b[0m\u001b[0;34m,\u001b[0m \u001b[0mlen\u001b[0m\u001b[0;34m(\u001b[0m\u001b[0mbest_matches\u001b[0m\u001b[0;34m)\u001b[0m \u001b[0;34m-\u001b[0m \u001b[0;36m1\u001b[0m\u001b[0;34m)\u001b[0m\u001b[0;34m\u001b[0m\u001b[0;34m\u001b[0m\u001b[0m\n\u001b[1;32m     63\u001b[0m           \u001b[0;31m# rnd_index = np.random.choice(len(best_matches))\u001b[0m\u001b[0;34m\u001b[0m\u001b[0;34m\u001b[0m\u001b[0;34m\u001b[0m\u001b[0m\n",
            "\u001b[0;32m<ipython-input-3-833223791ed6>\u001b[0m in \u001b[0;36mfind_matches\u001b[0;34m(template, sample, gauss_mask, valid_mask, window)\u001b[0m\n\u001b[1;32m      9\u001b[0m     \u001b[0;32mfor\u001b[0m \u001b[0mi\u001b[0m \u001b[0;32min\u001b[0m \u001b[0mrange\u001b[0m\u001b[0;34m(\u001b[0m\u001b[0mhalf\u001b[0m\u001b[0;34m,\u001b[0m \u001b[0msample\u001b[0m\u001b[0;34m.\u001b[0m\u001b[0mshape\u001b[0m\u001b[0;34m[\u001b[0m\u001b[0;36m0\u001b[0m\u001b[0;34m]\u001b[0m \u001b[0;34m+\u001b[0m \u001b[0mhalf\u001b[0m\u001b[0;34m)\u001b[0m\u001b[0;34m:\u001b[0m\u001b[0;34m\u001b[0m\u001b[0;34m\u001b[0m\u001b[0m\n\u001b[1;32m     10\u001b[0m       \u001b[0;32mfor\u001b[0m \u001b[0mj\u001b[0m \u001b[0;32min\u001b[0m \u001b[0mrange\u001b[0m\u001b[0;34m(\u001b[0m\u001b[0mhalf\u001b[0m\u001b[0;34m,\u001b[0m \u001b[0msample\u001b[0m\u001b[0;34m.\u001b[0m\u001b[0mshape\u001b[0m\u001b[0;34m[\u001b[0m\u001b[0;36m1\u001b[0m\u001b[0;34m]\u001b[0m \u001b[0;34m+\u001b[0m \u001b[0mhalf\u001b[0m\u001b[0;34m)\u001b[0m\u001b[0;34m:\u001b[0m\u001b[0;34m\u001b[0m\u001b[0;34m\u001b[0m\u001b[0m\n\u001b[0;32m---> 11\u001b[0;31m         \u001b[0mdist\u001b[0m \u001b[0;34m=\u001b[0m \u001b[0;34m(\u001b[0m\u001b[0mnp\u001b[0m\u001b[0;34m.\u001b[0m\u001b[0msum\u001b[0m\u001b[0;34m(\u001b[0m\u001b[0mtemplate\u001b[0m\u001b[0;34m[\u001b[0m\u001b[0;34m:\u001b[0m\u001b[0;34m,\u001b[0m\u001b[0;34m:\u001b[0m\u001b[0;34m,\u001b[0m\u001b[0;34m:\u001b[0m\u001b[0;34m]\u001b[0m \u001b[0;34m-\u001b[0m \u001b[0msample_padded\u001b[0m\u001b[0;34m[\u001b[0m\u001b[0;34m(\u001b[0m\u001b[0mi\u001b[0m\u001b[0;34m-\u001b[0m\u001b[0mhalf\u001b[0m\u001b[0;34m)\u001b[0m\u001b[0;34m:\u001b[0m\u001b[0;34m(\u001b[0m\u001b[0mi\u001b[0m\u001b[0;34m+\u001b[0m\u001b[0mhalf\u001b[0m\u001b[0;34m+\u001b[0m\u001b[0;36m1\u001b[0m\u001b[0;34m)\u001b[0m\u001b[0;34m,\u001b[0m \u001b[0;34m(\u001b[0m\u001b[0mj\u001b[0m\u001b[0;34m-\u001b[0m\u001b[0mhalf\u001b[0m\u001b[0;34m)\u001b[0m\u001b[0;34m:\u001b[0m\u001b[0;34m(\u001b[0m\u001b[0mj\u001b[0m\u001b[0;34m+\u001b[0m\u001b[0mhalf\u001b[0m\u001b[0;34m+\u001b[0m\u001b[0;36m1\u001b[0m\u001b[0;34m)\u001b[0m\u001b[0;34m,\u001b[0m\u001b[0;34m:\u001b[0m\u001b[0;34m]\u001b[0m\u001b[0;34m,\u001b[0m \u001b[0maxis\u001b[0m\u001b[0;34m=\u001b[0m\u001b[0;36m2\u001b[0m\u001b[0;34m)\u001b[0m\u001b[0;34m)\u001b[0m\u001b[0;34m**\u001b[0m\u001b[0;36m2\u001b[0m\u001b[0;34m\u001b[0m\u001b[0;34m\u001b[0m\u001b[0m\n\u001b[0m\u001b[1;32m     12\u001b[0m         \u001b[0mcor\u001b[0m \u001b[0;34m=\u001b[0m \u001b[0mnp\u001b[0m\u001b[0;34m.\u001b[0m\u001b[0mcorrelate\u001b[0m\u001b[0;34m(\u001b[0m\u001b[0mnp\u001b[0m\u001b[0;34m.\u001b[0m\u001b[0mreshape\u001b[0m\u001b[0;34m(\u001b[0m\u001b[0mdist\u001b[0m\u001b[0;34m,\u001b[0m \u001b[0mwindow\u001b[0m\u001b[0;34m**\u001b[0m\u001b[0;36m2\u001b[0m\u001b[0;34m)\u001b[0m\u001b[0;34m,\u001b[0m \u001b[0mnp\u001b[0m\u001b[0;34m.\u001b[0m\u001b[0mreshape\u001b[0m\u001b[0;34m(\u001b[0m\u001b[0mnp\u001b[0m\u001b[0;34m.\u001b[0m\u001b[0mmultiply\u001b[0m\u001b[0;34m(\u001b[0m\u001b[0mgauss_mask\u001b[0m\u001b[0;34m,\u001b[0m \u001b[0mvalid_mask\u001b[0m\u001b[0;34m)\u001b[0m\u001b[0;34m,\u001b[0m\u001b[0mwindow\u001b[0m\u001b[0;34m**\u001b[0m\u001b[0;36m2\u001b[0m\u001b[0;34m)\u001b[0m\u001b[0;34m)\u001b[0m\u001b[0;34m[\u001b[0m\u001b[0;36m0\u001b[0m\u001b[0;34m]\u001b[0m\u001b[0;34m\u001b[0m\u001b[0;34m\u001b[0m\u001b[0m\n\u001b[1;32m     13\u001b[0m         \u001b[0mSSD\u001b[0m\u001b[0;34m[\u001b[0m\u001b[0mi\u001b[0m \u001b[0;34m-\u001b[0m \u001b[0mhalf\u001b[0m\u001b[0;34m,\u001b[0m \u001b[0mj\u001b[0m \u001b[0;34m-\u001b[0m \u001b[0mhalf\u001b[0m\u001b[0;34m]\u001b[0m \u001b[0;34m=\u001b[0m \u001b[0mcor\u001b[0m\u001b[0;34m/\u001b[0m\u001b[0mtotal_weight\u001b[0m\u001b[0;34m\u001b[0m\u001b[0;34m\u001b[0m\u001b[0m\n",
            "\u001b[0;32m<__array_function__ internals>\u001b[0m in \u001b[0;36msum\u001b[0;34m(*args, **kwargs)\u001b[0m\n",
            "\u001b[0;32m/usr/local/lib/python3.6/dist-packages/numpy/core/fromnumeric.py\u001b[0m in \u001b[0;36msum\u001b[0;34m(a, axis, dtype, out, keepdims, initial, where)\u001b[0m\n\u001b[1;32m   2180\u001b[0m \u001b[0;34m\u001b[0m\u001b[0m\n\u001b[1;32m   2181\u001b[0m     return _wrapreduction(a, np.add, 'sum', axis, dtype, out, keepdims=keepdims,\n\u001b[0;32m-> 2182\u001b[0;31m                           initial=initial, where=where)\n\u001b[0m\u001b[1;32m   2183\u001b[0m \u001b[0;34m\u001b[0m\u001b[0m\n\u001b[1;32m   2184\u001b[0m \u001b[0;34m\u001b[0m\u001b[0m\n",
            "\u001b[0;32m/usr/local/lib/python3.6/dist-packages/numpy/core/fromnumeric.py\u001b[0m in \u001b[0;36m_wrapreduction\u001b[0;34m(obj, ufunc, method, axis, dtype, out, **kwargs)\u001b[0m\n\u001b[1;32m     88\u001b[0m                 \u001b[0;32mreturn\u001b[0m \u001b[0mreduction\u001b[0m\u001b[0;34m(\u001b[0m\u001b[0maxis\u001b[0m\u001b[0;34m=\u001b[0m\u001b[0maxis\u001b[0m\u001b[0;34m,\u001b[0m \u001b[0mout\u001b[0m\u001b[0;34m=\u001b[0m\u001b[0mout\u001b[0m\u001b[0;34m,\u001b[0m \u001b[0;34m**\u001b[0m\u001b[0mpasskwargs\u001b[0m\u001b[0;34m)\u001b[0m\u001b[0;34m\u001b[0m\u001b[0;34m\u001b[0m\u001b[0m\n\u001b[1;32m     89\u001b[0m \u001b[0;34m\u001b[0m\u001b[0m\n\u001b[0;32m---> 90\u001b[0;31m     \u001b[0;32mreturn\u001b[0m \u001b[0mufunc\u001b[0m\u001b[0;34m.\u001b[0m\u001b[0mreduce\u001b[0m\u001b[0;34m(\u001b[0m\u001b[0mobj\u001b[0m\u001b[0;34m,\u001b[0m \u001b[0maxis\u001b[0m\u001b[0;34m,\u001b[0m \u001b[0mdtype\u001b[0m\u001b[0;34m,\u001b[0m \u001b[0mout\u001b[0m\u001b[0;34m,\u001b[0m \u001b[0;34m**\u001b[0m\u001b[0mpasskwargs\u001b[0m\u001b[0;34m)\u001b[0m\u001b[0;34m\u001b[0m\u001b[0;34m\u001b[0m\u001b[0m\n\u001b[0m\u001b[1;32m     91\u001b[0m \u001b[0;34m\u001b[0m\u001b[0m\n\u001b[1;32m     92\u001b[0m \u001b[0;34m\u001b[0m\u001b[0m\n",
            "\u001b[0;31mKeyboardInterrupt\u001b[0m: "
          ]
        }
      ]
    },
    {
      "cell_type": "code",
      "metadata": {
        "id": "Ir-2ij0xMi_f",
        "colab_type": "code",
        "colab": {
          "base_uri": "https://localhost:8080/",
          "height": 363
        },
        "outputId": "ab9082b7-5168-4c0b-ed5c-0c81d977baf8"
      },
      "source": [
        "w = 5\n",
        "\n",
        "#Texture synthesis on colored image\n",
        "source = cv2.imread('texture.jpg')\n",
        "print('Source Image')\n",
        "cv2_imshow(source)\n",
        "target = synth_texture(source, w, out_size)\n",
        "print('Target Image')\n",
        "cv2_imshow(target)\n",
        "\n",
        "# Don't need to submit this one\n",
        "# source = cv2.imread('jigsaw.jpg')\n",
        "# print('Source Image')\n",
        "# cv2_imshow(source)\n",
        "# target = synth_texture(source, w, out_size)\n",
        "# print('Target Image')\n",
        "# cv2_imshow(target)"
      ],
      "execution_count": null,
      "outputs": [
        {
          "output_type": "stream",
          "text": [
            "Source Image\n"
          ],
          "name": "stdout"
        },
        {
          "output_type": "display_data",
          "data": {
            "image/png": "[encoded data removed]",
            "text/plain": [
              "<PIL.Image.Image image mode=RGB size=68x68 at 0x7F9132DD3438>"
            ]
          },
          "metadata": {
            "tags": []
          }
        },
        {
          "output_type": "stream",
          "text": [
            "10 % complete\n",
            "21 % complete\n",
            "31 % complete\n",
            "41 % complete\n",
            "51 % complete\n",
            "60 % complete\n",
            "70 % complete\n",
            "80 % complete\n",
            "91 % complete\n",
            "Target Image\n"
          ],
          "name": "stdout"
        },
        {
          "output_type": "display_data",
          "data": {
            "image/png": "[encoded data removed]",
            "text/plain": [
              "<PIL.Image.Image image mode=RGB size=100x100 at 0x7F9132DD3470>"
            ]
          },
          "metadata": {
            "tags": []
          }
        }
      ]
    },
    {
      "cell_type": "markdown",
      "metadata": {
        "id": "e4HqJR_zTpBv",
        "colab_type": "text"
      },
      "source": [
        "1. Explain the algorithm's performance with respect to window size:\n",
        "\n",
        "The larger the window size, the better the synthesized result. This is probably because a larger window size means looking for more neighbours having the same pattern, and a more similar pixel will be found leading to a more precise result. However, as the window size gets larger, the run time also increase greatly. More computations are needed and these is the tradeoff between the result and run time cost.\n",
        "\n",
        "2. For a given window size, if you re-run the algorithm with the same starting seed do you get the same result? Why or why not? Is this true for all window sizes?\n",
        "\n",
        "I did not get the same result when re-running the program. This is because every time we are choosing the best_match randomly from a list of best_matches. They are all in the same boundary, but varies slightly so that they could produce different results.\n",
        "\n",
        "This is true for all window sizes.\n"
      ]
    }
  ]
}